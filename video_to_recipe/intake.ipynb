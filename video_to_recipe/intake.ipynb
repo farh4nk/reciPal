{
 "cells": [
  {
   "cell_type": "code",
   "execution_count": null,
   "id": "408c739f",
   "metadata": {},
   "outputs": [],
   "source": [
    "#pip install yt-dlp\n",
    "import requests\n",
    "import json\n",
    "from yt_dlp import YoutubeDL\n",
    "import os, json\n",
    "from google import genai\n",
    "\n",
    "client = genai.Client(api_key=os.environ[\"GEMINI_API_KEY\"])\n",
    "url = \"\" #unique instagram link here\n",
    "file_type = \"mp3\" \n",
    "file_path = \"data/CookingAudio.mp3\" #default path to save audio file\n"
   ]
  },
  {
   "cell_type": "code",
   "execution_count": null,
   "id": "540bfbf5",
   "metadata": {},
   "outputs": [
    {
     "name": "stdout",
     "output_type": "stream",
     "text": [
      "[Instagram] Extracting URL: https://www.instagram.com/p/C74R_N8ptE-/?hl=en\n",
      "[Instagram] C74R_N8ptE-: Setting up session\n",
      "[Instagram] C74R_N8ptE-: Downloading JSON metadata\n",
      "[info] C74R_N8ptE-: Downloading 1 format(s): dash-1197644558057729ad\n",
      "[download] Destination: data\\CookingAudio\n",
      "[download] 100% of  268.73KiB in 00:00:00 at 2.67MiB/s   \n",
      "[FixupM4a] Correcting container of \"data\\CookingAudio\"\n",
      "[ExtractAudio] Destination: data\\CookingAudio.mp3\n",
      "Deleting original file data\\CookingAudio (pass -k to keep)\n"
     ]
    }
   ],
   "source": [
    "def download_video(url, file_type = \"mp3\"):\n",
    "    if file_type == \"mp4\":\n",
    "        ydl_opts = {\"outtmpl\": \"data/CookingAudio.mp4\"} #Just mp4\n",
    "    elif file_type == \"mp3\":\n",
    "        ydl_opts = { #Just mp3\n",
    "        'format': 'bestaudio/best',  # get best audio stream\n",
    "        'outtmpl': 'data/CookingAudio',  # output filename set to Data Folder, default name to delete later\n",
    "        'postprocessors': [{\n",
    "            'key': 'FFmpegExtractAudio',  # extract audio\n",
    "            'preferredcodec': 'mp3',     # convert to mp3\n",
    "            'preferredquality': '192',   # optional: audio quality\n",
    "        }],\n",
    "    }\n",
    "    with YoutubeDL(ydl_opts) as ydl:\n",
    "        ydl.download([url])\n",
    "        \n",
    "\n",
    "\n",
    "\n",
    "\n",
    "#ydl_opts = {\"outtmpl\": \"%(title)s.%(ext)s\"} #Just mp4\n"
   ]
  },
  {
   "cell_type": "code",
   "execution_count": 33,
   "id": "0c2a4b60",
   "metadata": {},
   "outputs": [],
   "source": [
    "def transcribe_and_extract_recipe(file_path=\"data/CookingAudio.mp3\"):\n",
    "    \"\"\"\n",
    "    Sends a cooking audio or video file to Gemini Pro Vision and returns structured recipe JSON:\n",
    "    - name: short recipe name\n",
    "    - ingredients: list of tuples [amount, ingredient]\n",
    "    - caption: short caption summarizing the recipe\n",
    "\n",
    "    Args:\n",
    "        file_path (str): Path to the audio (MP3/WAV) or video file.\n",
    "\n",
    "    Returns:\n",
    "        dict: JSON object with keys 'name', 'ingredients', and 'caption'.\n",
    "    \"\"\"\n",
    "    \n",
    "\n",
    "    # Detect media type from extension\n",
    "    media_type = \"audio\" if file_path.lower().endswith((\".mp3\", \".wav\", \".m4a\")) else \"video\"\n",
    "\n",
    "    instructions = (\n",
    "        f\"Listen to the {media_type} and extract a recipe. \"\n",
    "        \"If an ingredient amount is not specified, estimate a reasonable value based on context \"\n",
    "        \"(for example, how much butter is usually added for 3lb butter chicken). \"\n",
    "        \"Return the result strictly as a JSON object with the following keys:\\n\"\n",
    "        \"- name: short recipe name\\n\"\n",
    "        \"- ingredients: list of tuples [amount, ingredient]\\n\"\n",
    "        \"- caption: short caption summarizing the recipe\"\n",
    "    )\n",
    "\n",
    "    # Upload the file\n",
    "    uploaded_file = client.files.upload(file=file_path)\n",
    "\n",
    "    # Generate structured recipe JSON\n",
    "    resp = client.models.generate_content(\n",
    "        model=\"gemini-2.5-flash\",  # or \"gemini-2.5-pro\"\n",
    "        contents=[\n",
    "            uploaded_file,\n",
    "            instructions\n",
    "        ],\n",
    "        config={\n",
    "            \"temperature\": 0,\n",
    "            \"response_mime_type\": \"application/json\"  # Ensures we get JSON output\n",
    "        }\n",
    "    )\n",
    "\n",
    "    try:\n",
    "        # Convert the returned text into a Python dict\n",
    "        recipe_json = json.loads(resp.text)\n",
    "    except json.JSONDecodeError:\n",
    "        raise ValueError(f\"Failed to parse response as JSON: {resp.text}\")\n",
    "\n",
    "    return recipe_json\n"
   ]
  },
  {
   "cell_type": "code",
   "execution_count": null,
   "id": "37f188f1",
   "metadata": {},
   "outputs": [
    {
     "name": "stdout",
     "output_type": "stream",
     "text": [
      "{\n",
      "  \"name\": \"Japanese Egg Sandwich\",\n",
      "  \"ingredients\": [\n",
      "    [\n",
      "      3,\n",
      "      \"large eggs\"\n",
      "    ],\n",
      "    [\n",
      "      \"2-3 tbsp\",\n",
      "      \"Japanese mayonnaise\"\n",
      "    ],\n",
      "    [\n",
      "      2,\n",
      "      \"slices milk bread\"\n",
      "    ]\n",
      "  ],\n",
      "  \"caption\": \"A simple and delicious Japanese egg sandwich featuring perfectly cooked eggs, creamy egg yolk mixed with Japanese mayo, and fluffy milk bread for the perfect combo.\"\n",
      "}\n"
     ]
    }
   ],
   "source": [
    "#full list of operations\n",
    "download_video(url) #dowloaded to data/CookingAudio.mp3\n",
    "recipe = transcribe_and_extract_recipe(file_path)\n",
    "print(json.dumps(recipe, indent=2))\n",
    "os.remove(\"data/CookingAudio.mp3\")\n",
    "\n",
    "#remember to id"
   ]
  },
  {
   "cell_type": "code",
   "execution_count": null,
   "id": "d2cdab0c",
   "metadata": {},
   "outputs": [],
   "source": [
    "#Store the JSON to the backend\n",
    "\n"
   ]
  }
 ],
 "metadata": {
  "kernelspec": {
   "display_name": "base",
   "language": "python",
   "name": "python3"
  },
  "language_info": {
   "codemirror_mode": {
    "name": "ipython",
    "version": 3
   },
   "file_extension": ".py",
   "mimetype": "text/x-python",
   "name": "python",
   "nbconvert_exporter": "python",
   "pygments_lexer": "ipython3",
   "version": "3.13.5"
  }
 },
 "nbformat": 4,
 "nbformat_minor": 5
}
